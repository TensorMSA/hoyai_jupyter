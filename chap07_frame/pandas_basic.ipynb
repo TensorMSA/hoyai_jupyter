{
 "cells": [
  {
   "cell_type": "code",
   "execution_count": 1,
   "metadata": {
    "collapsed": false
   },
   "outputs": [
    {
     "name": "stderr",
     "output_type": "stream",
     "text": [
      "/opt/conda/lib/python3.5/site-packages/matplotlib/font_manager.py:273: UserWarning: Matplotlib is building the font cache using fc-list. This may take a moment.\n",
      "  warnings.warn('Matplotlib is building the font cache using fc-list. This may take a moment.')\n",
      "/opt/conda/lib/python3.5/site-packages/matplotlib/font_manager.py:273: UserWarning: Matplotlib is building the font cache using fc-list. This may take a moment.\n",
      "  warnings.warn('Matplotlib is building the font cache using fc-list. This may take a moment.')\n"
     ]
    }
   ],
   "source": [
    "import pandas as pd\n",
    "import numpy as np\n",
    "import matplotlib.pyplot as plt"
   ]
  },
  {
   "cell_type": "markdown",
   "metadata": {},
   "source": [
    "# pandas 자료 구조 소개\n",
    "\n",
    " - pandas에 대해서 알아보려면 Series와 DataFrame, 이 두 가지 자료 구조에 익숙해져야 한다.\n",
    " - Series는 일련의 객체를 담을 수 있는 1차원 배열 같은 자료 구조 (어떤 NumPy 자료형이라도 담을 수 있다.) \n",
    " - Index와 Value로 구성되어 있음\n"
   ]
  },
  {
   "cell_type": "code",
   "execution_count": 2,
   "metadata": {
    "collapsed": false
   },
   "outputs": [],
   "source": [
    "s = pd.Series([3.0, 2, 1.0, 6.7, 8.1])"
   ]
  },
  {
   "cell_type": "code",
   "execution_count": 3,
   "metadata": {
    "collapsed": false
   },
   "outputs": [
    {
     "data": {
      "text/plain": [
       "RangeIndex(start=0, stop=5, step=1)"
      ]
     },
     "execution_count": 3,
     "metadata": {},
     "output_type": "execute_result"
    }
   ],
   "source": [
    "s.index"
   ]
  },
  {
   "cell_type": "code",
   "execution_count": 4,
   "metadata": {
    "collapsed": false
   },
   "outputs": [
    {
     "data": {
      "text/plain": [
       "array([ 3. ,  2. ,  1. ,  6.7,  8.1])"
      ]
     },
     "execution_count": 4,
     "metadata": {},
     "output_type": "execute_result"
    }
   ],
   "source": [
    "s.values"
   ]
  },
  {
   "cell_type": "code",
   "execution_count": 11,
   "metadata": {
    "collapsed": false
   },
   "outputs": [
    {
     "name": "stdout",
     "output_type": "stream",
     "text": [
      "0    3.0\n",
      "1    2.0\n",
      "2    1.0\n",
      "3    6.7\n",
      "4    8.1\n",
      "dtype: float64\n",
      "---------\n",
      "float64\n",
      "---------\n",
      "0\n",
      "---------\n",
      "3.0\n",
      "---------\n",
      "6.7\n",
      "---------\n"
     ]
    }
   ],
   "source": [
    "print (s)\n",
    "print(\"---------\")\n",
    "print (s.dtype)\n",
    "print(\"---------\")\n",
    "print (s.index[0])\n",
    "print(\"---------\")\n",
    "print (s[0])\n",
    "print(\"---------\")\n",
    "print (s[3])\n",
    "print(\"---------\")"
   ]
  },
  {
   "cell_type": "code",
   "execution_count": 12,
   "metadata": {
    "collapsed": false
   },
   "outputs": [],
   "source": [
    "s_mu = pd.Series([4, 7, -5, 3], index=['d', 'b', 'a', 'c'])"
   ]
  },
  {
   "cell_type": "code",
   "execution_count": 13,
   "metadata": {
    "collapsed": false
   },
   "outputs": [
    {
     "data": {
      "text/plain": [
       "d    4\n",
       "b    7\n",
       "a   -5\n",
       "c    3\n",
       "dtype: int64"
      ]
     },
     "execution_count": 13,
     "metadata": {},
     "output_type": "execute_result"
    }
   ],
   "source": [
    "s_mu"
   ]
  },
  {
   "cell_type": "code",
   "execution_count": 16,
   "metadata": {
    "collapsed": false
   },
   "outputs": [
    {
     "data": {
      "text/plain": [
       "'c'"
      ]
     },
     "execution_count": 16,
     "metadata": {},
     "output_type": "execute_result"
    }
   ],
   "source": [
    "s_mu['a']\n",
    "s_mu.index[3]"
   ]
  },
  {
   "cell_type": "code",
   "execution_count": 17,
   "metadata": {
    "collapsed": true
   },
   "outputs": [],
   "source": [
    "s = s.astype(np.int)"
   ]
  },
  {
   "cell_type": "code",
   "execution_count": 18,
   "metadata": {
    "collapsed": false
   },
   "outputs": [
    {
     "name": "stdout",
     "output_type": "stream",
     "text": [
      "0    3\n",
      "1    2\n",
      "2    1\n",
      "3    6\n",
      "4    8\n",
      "dtype: int64\n"
     ]
    }
   ],
   "source": [
    "print (s)"
   ]
  },
  {
   "cell_type": "markdown",
   "metadata": {},
   "source": [
    "# Dataframe으로 Date형 처리\n"
   ]
  },
  {
   "cell_type": "code",
   "execution_count": 19,
   "metadata": {
    "collapsed": true
   },
   "outputs": [],
   "source": [
    "indices = list(range(5))\n",
    "dates = pd.date_range('20170712', periods=6)"
   ]
  },
  {
   "cell_type": "code",
   "execution_count": 20,
   "metadata": {
    "collapsed": false
   },
   "outputs": [
    {
     "name": "stdout",
     "output_type": "stream",
     "text": [
      "[0, 1, 2, 3, 4]\n",
      "DatetimeIndex(['2017-07-12', '2017-07-13', '2017-07-14', '2017-07-15',\n",
      "               '2017-07-16', '2017-07-17'],\n",
      "              dtype='datetime64[ns]', freq='D')\n"
     ]
    }
   ],
   "source": [
    "print (indices)\n",
    "print (dates)"
   ]
  },
  {
   "cell_type": "code",
   "execution_count": 21,
   "metadata": {
    "collapsed": true
   },
   "outputs": [],
   "source": [
    "time_1 = pd.date_range('1/1/2017', periods=5, freq='M')\n",
    "time_2 = pd.date_range('1/1/2017', periods=72, freq='H')\n",
    "time_3 = pd.period_range('2000Q1', '2017Q4', freq='Q-NOV')"
   ]
  },
  {
   "cell_type": "code",
   "execution_count": 22,
   "metadata": {
    "collapsed": false
   },
   "outputs": [
    {
     "name": "stdout",
     "output_type": "stream",
     "text": [
      "DatetimeIndex(['2017-01-31', '2017-02-28', '2017-03-31', '2017-04-30',\n",
      "               '2017-05-31'],\n",
      "              dtype='datetime64[ns]', freq='M')\n",
      "DatetimeIndex(['2017-01-01 00:00:00', '2017-01-01 01:00:00',\n",
      "               '2017-01-01 02:00:00', '2017-01-01 03:00:00',\n",
      "               '2017-01-01 04:00:00', '2017-01-01 05:00:00',\n",
      "               '2017-01-01 06:00:00', '2017-01-01 07:00:00',\n",
      "               '2017-01-01 08:00:00', '2017-01-01 09:00:00',\n",
      "               '2017-01-01 10:00:00', '2017-01-01 11:00:00',\n",
      "               '2017-01-01 12:00:00', '2017-01-01 13:00:00',\n",
      "               '2017-01-01 14:00:00', '2017-01-01 15:00:00',\n",
      "               '2017-01-01 16:00:00', '2017-01-01 17:00:00',\n",
      "               '2017-01-01 18:00:00', '2017-01-01 19:00:00',\n",
      "               '2017-01-01 20:00:00', '2017-01-01 21:00:00',\n",
      "               '2017-01-01 22:00:00', '2017-01-01 23:00:00',\n",
      "               '2017-01-02 00:00:00', '2017-01-02 01:00:00',\n",
      "               '2017-01-02 02:00:00', '2017-01-02 03:00:00',\n",
      "               '2017-01-02 04:00:00', '2017-01-02 05:00:00',\n",
      "               '2017-01-02 06:00:00', '2017-01-02 07:00:00',\n",
      "               '2017-01-02 08:00:00', '2017-01-02 09:00:00',\n",
      "               '2017-01-02 10:00:00', '2017-01-02 11:00:00',\n",
      "               '2017-01-02 12:00:00', '2017-01-02 13:00:00',\n",
      "               '2017-01-02 14:00:00', '2017-01-02 15:00:00',\n",
      "               '2017-01-02 16:00:00', '2017-01-02 17:00:00',\n",
      "               '2017-01-02 18:00:00', '2017-01-02 19:00:00',\n",
      "               '2017-01-02 20:00:00', '2017-01-02 21:00:00',\n",
      "               '2017-01-02 22:00:00', '2017-01-02 23:00:00',\n",
      "               '2017-01-03 00:00:00', '2017-01-03 01:00:00',\n",
      "               '2017-01-03 02:00:00', '2017-01-03 03:00:00',\n",
      "               '2017-01-03 04:00:00', '2017-01-03 05:00:00',\n",
      "               '2017-01-03 06:00:00', '2017-01-03 07:00:00',\n",
      "               '2017-01-03 08:00:00', '2017-01-03 09:00:00',\n",
      "               '2017-01-03 10:00:00', '2017-01-03 11:00:00',\n",
      "               '2017-01-03 12:00:00', '2017-01-03 13:00:00',\n",
      "               '2017-01-03 14:00:00', '2017-01-03 15:00:00',\n",
      "               '2017-01-03 16:00:00', '2017-01-03 17:00:00',\n",
      "               '2017-01-03 18:00:00', '2017-01-03 19:00:00',\n",
      "               '2017-01-03 20:00:00', '2017-01-03 21:00:00',\n",
      "               '2017-01-03 22:00:00', '2017-01-03 23:00:00'],\n",
      "              dtype='datetime64[ns]', freq='H')\n",
      "PeriodIndex(['2000Q1', '2000Q2', '2000Q3', '2000Q4', '2001Q1', '2001Q2',\n",
      "             '2001Q3', '2001Q4', '2002Q1', '2002Q2', '2002Q3', '2002Q4',\n",
      "             '2003Q1', '2003Q2', '2003Q3', '2003Q4', '2004Q1', '2004Q2',\n",
      "             '2004Q3', '2004Q4', '2005Q1', '2005Q2', '2005Q3', '2005Q4',\n",
      "             '2006Q1', '2006Q2', '2006Q3', '2006Q4', '2007Q1', '2007Q2',\n",
      "             '2007Q3', '2007Q4', '2008Q1', '2008Q2', '2008Q3', '2008Q4',\n",
      "             '2009Q1', '2009Q2', '2009Q3', '2009Q4', '2010Q1', '2010Q2',\n",
      "             '2010Q3', '2010Q4', '2011Q1', '2011Q2', '2011Q3', '2011Q4',\n",
      "             '2012Q1', '2012Q2', '2012Q3', '2012Q4', '2013Q1', '2013Q2',\n",
      "             '2013Q3', '2013Q4', '2014Q1', '2014Q2', '2014Q3', '2014Q4',\n",
      "             '2015Q1', '2015Q2', '2015Q3', '2015Q4', '2016Q1', '2016Q2',\n",
      "             '2016Q3', '2016Q4', '2017Q1', '2017Q2', '2017Q3', '2017Q4'],\n",
      "            dtype='int64', freq='Q-NOV')\n"
     ]
    }
   ],
   "source": [
    "print (time_1)\n",
    "print (time_2)\n",
    "print (time_3)"
   ]
  },
  {
   "cell_type": "code",
   "execution_count": 24,
   "metadata": {
    "collapsed": false
   },
   "outputs": [
    {
     "name": "stdout",
     "output_type": "stream",
     "text": [
      "DatetimeIndex(['2017-08-14 00:00:00+09:00', '2017-08-15 00:00:00+09:00',\n",
      "               '2017-08-16 00:00:00+09:00', '2017-08-17 00:00:00+09:00',\n",
      "               '2017-08-18 00:00:00+09:00', '2017-08-19 00:00:00+09:00',\n",
      "               '2017-08-20 00:00:00+09:00', '2017-08-21 00:00:00+09:00',\n",
      "               '2017-08-22 00:00:00+09:00', '2017-08-23 00:00:00+09:00'],\n",
      "              dtype='datetime64[ns, Asia/Seoul]', freq='D')\n",
      "DatetimeIndex(['2017-08-13 11:00:00-04:00', '2017-08-14 11:00:00-04:00',\n",
      "               '2017-08-15 11:00:00-04:00', '2017-08-16 11:00:00-04:00',\n",
      "               '2017-08-17 11:00:00-04:00', '2017-08-18 11:00:00-04:00',\n",
      "               '2017-08-19 11:00:00-04:00', '2017-08-20 11:00:00-04:00',\n",
      "               '2017-08-21 11:00:00-04:00', '2017-08-22 11:00:00-04:00'],\n",
      "              dtype='datetime64[ns, US/Eastern]', freq='D')\n"
     ]
    }
   ],
   "source": [
    "time_tz = pd.date_range('8/14/2017 00:00', periods=10, freq='D', tz='Asia/Seoul')\n",
    "print (time_tz)\n",
    "\n",
    "time_tz = time_tz.tz_convert('US/Eastern')\n",
    "print (time_tz)"
   ]
  },
  {
   "cell_type": "markdown",
   "metadata": {},
   "source": [
    "# Dataframe 만들기\n",
    " - (6,5) 6행 5열"
   ]
  },
  {
   "cell_type": "code",
   "execution_count": 25,
   "metadata": {
    "collapsed": false
   },
   "outputs": [
    {
     "data": {
      "text/plain": [
       "array([[ 1.43281588, -0.56829466, -0.91933646, -0.34814787,  0.72222671],\n",
       "       [ 1.07261408,  0.62664196, -0.69790049, -0.88979733,  0.18859605],\n",
       "       [-1.22240532, -1.58953815, -1.64418779, -1.16040091,  0.38492518],\n",
       "       [ 0.34116844,  0.81890179,  0.83797206, -0.83287177,  0.87267461],\n",
       "       [-1.07248317,  0.04696462, -1.07279161, -0.75304047,  1.2562856 ],\n",
       "       [-1.71474844,  0.04763023,  1.36335336, -1.23176946,  1.84169509]])"
      ]
     },
     "execution_count": 25,
     "metadata": {},
     "output_type": "execute_result"
    }
   ],
   "source": [
    "np.random.randn(6, 5)"
   ]
  },
  {
   "cell_type": "code",
   "execution_count": 26,
   "metadata": {
    "collapsed": true
   },
   "outputs": [],
   "source": [
    "df = pd.DataFrame(np.random.randn(6, 5), columns=['A', 'B', 'C', 'D', 'E'])"
   ]
  },
  {
   "cell_type": "code",
   "execution_count": 27,
   "metadata": {
    "collapsed": false
   },
   "outputs": [
    {
     "name": "stdout",
     "output_type": "stream",
     "text": [
      "          A         B         C         D         E\n",
      "0  1.698839 -0.070254 -1.264623  1.379637  0.357621\n",
      "1 -0.721198 -0.113630 -1.021791 -0.361078  0.408562\n",
      "2 -1.436667  0.626062 -0.354466  0.432572 -0.590362\n",
      "3  1.179994  0.657974  1.993919  1.724219 -0.851545\n",
      "4 -0.042424 -0.535474 -0.417040  0.365669 -0.911018\n",
      "5 -0.996595  1.349368 -0.490528 -0.128425 -0.140882\n"
     ]
    }
   ],
   "source": [
    "print (df)"
   ]
  },
  {
   "cell_type": "code",
   "execution_count": 28,
   "metadata": {
    "collapsed": true
   },
   "outputs": [],
   "source": [
    "dates = pd.date_range('20170712', periods=6)\n",
    "df = pd.DataFrame(np.random.randn(6, 5), index=dates, columns=['A', 'B', 'C', 'D', 'E'])"
   ]
  },
  {
   "cell_type": "code",
   "execution_count": 35,
   "metadata": {
    "collapsed": false
   },
   "outputs": [
    {
     "name": "stdout",
     "output_type": "stream",
     "text": [
      "                   A         B         C         D         E\n",
      "2017-07-12 -1.156273 -2.020193  0.659705 -0.046291  0.700956\n",
      "2017-07-13 -0.050652  0.135141  0.068101 -0.614953 -0.815223\n",
      "2017-07-14  0.869305  0.161927 -0.774603  2.433016 -1.004319\n",
      "2017-07-15 -0.035198  0.673841  0.153867  0.148730 -0.213712\n",
      "2017-07-16  0.595576 -0.112000  0.962309 -1.163351 -0.746414\n",
      "2017-07-17  1.088573  2.098693 -1.807941 -0.684566  0.859636\n"
     ]
    }
   ],
   "source": [
    "print (df)"
   ]
  },
  {
   "cell_type": "code",
   "execution_count": 30,
   "metadata": {
    "collapsed": true
   },
   "outputs": [],
   "source": [
    "df2 = pd.DataFrame({\n",
    "    'A': 1.,\n",
    "    'B': pd.Timestamp('20170712'),\n",
    "    'C': pd.Series(1, index=list(range(0, 4)), dtype=np.float32),\n",
    "    'D': np.array([3] * 4, dtype=np.int32), \n",
    "    'E': pd.Categorical(['a', 'b', 'c', 'd']), \n",
    "    'F': 'Hello, world!'\n",
    "}, index=pd.date_range('20170712', periods=4))"
   ]
  },
  {
   "cell_type": "code",
   "execution_count": 31,
   "metadata": {
    "collapsed": false
   },
   "outputs": [
    {
     "name": "stdout",
     "output_type": "stream",
     "text": [
      "              A          B   C  D  E              F\n",
      "2017-07-12  1.0 2017-07-12 NaN  3  a  Hello, world!\n",
      "2017-07-13  1.0 2017-07-12 NaN  3  b  Hello, world!\n",
      "2017-07-14  1.0 2017-07-12 NaN  3  c  Hello, world!\n",
      "2017-07-15  1.0 2017-07-12 NaN  3  d  Hello, world!\n",
      "A           float64\n",
      "B    datetime64[ns]\n",
      "C           float32\n",
      "D             int32\n",
      "E          category\n",
      "F            object\n",
      "dtype: object\n",
      "Index(['A', 'B', 'C', 'D', 'E', 'F'], dtype='object')\n",
      "DatetimeIndex(['2017-07-12', '2017-07-13', '2017-07-14', '2017-07-15'], dtype='datetime64[ns]', freq='D')\n"
     ]
    }
   ],
   "source": [
    "print(df2)\n",
    "print(df2.dtypes)\n",
    "print(df2.columns)\n",
    "print(df2.index)"
   ]
  },
  {
   "cell_type": "code",
   "execution_count": 51,
   "metadata": {
    "collapsed": false
   },
   "outputs": [
    {
     "name": "stdout",
     "output_type": "stream",
     "text": [
      "              A          B    C  D  E              F\n",
      "2017-07-12  1.0 2017-07-12  1.0  3  a  Hello, world!\n",
      "2017-07-13 -1.0 2017-07-12  1.0  3  b  Hello, world!\n",
      "2017-07-14  3.0 2017-07-12  1.0  3  c  Hello, world!\n",
      "2017-07-15  5.0 2017-07-12  1.0  3  d  Hello, world!\n",
      "              A          B    C  D  E              F\n",
      "2017-07-15  5.0 2017-07-12  1.0  3  d  Hello, world!\n",
      "2017-07-14  3.0 2017-07-12  1.0  3  c  Hello, world!\n",
      "2017-07-12  1.0 2017-07-12  1.0  3  a  Hello, world!\n",
      "2017-07-13 -1.0 2017-07-12  1.0  3  b  Hello, world!\n"
     ]
    }
   ],
   "source": [
    "df2 = pd.DataFrame({\n",
    "    'A': [1.0, -1.0, 3.0, 5.0],\n",
    "    'B': pd.Timestamp('20170712'),\n",
    "    'C': pd.Series(1, index=pd.date_range('20170712', periods=4), dtype=np.float32),\n",
    "    'D': np.array([3] * 4, dtype=np.int32), \n",
    "    'E': pd.Categorical(['a', 'b', 'c', 'd']), \n",
    "    'F': 'Hello, world!'\n",
    "}, index=pd.date_range('20170712', periods=4))\n",
    "\n",
    "print(df2)\n",
    "#print (df2.head(2))\n",
    "#print (df2.tail(3))\n",
    "#print (df2.index)\n",
    "#print (df2.columns)\n",
    "#print (df2.values)\n",
    "#print (df2.describe())\n",
    "#print (df2.T)\n",
    "print (df2.sort_values(by='A', ascending=False))"
   ]
  },
  {
   "cell_type": "markdown",
   "metadata": {},
   "source": [
    "# Dataframe 선택\n",
    " - df['A'] : 열선택 select랑 비슷\n",
    " - df2[0:2] : 1행 2행 선택\n",
    " - df2['20170714':'20170715'] : Index로도 선택됨\n",
    " - df2.loc[:, ['A', 'C']] : 전체중에 'A','C'\n",
    " - df2.iloc[2:3, 2:3] : 두번째줄 두번째 열 선택\n",
    " "
   ]
  },
  {
   "cell_type": "code",
   "execution_count": 60,
   "metadata": {
    "collapsed": false
   },
   "outputs": [
    {
     "name": "stdout",
     "output_type": "stream",
     "text": [
      "              A          B   C  D  E              F\n",
      "2017-07-12  1.0 2017-07-12 NaN  3  a  Hello, world!\n",
      "2017-07-13 -1.0 2017-07-12 NaN  3  b  Hello, world!\n",
      "2017-07-14  3.0 2017-07-12 NaN  3  c  Hello, world!\n",
      "2017-07-15  5.0 2017-07-12 NaN  3  d  Hello, world!\n",
      "             C\n",
      "2017-07-14 NaN\n"
     ]
    }
   ],
   "source": [
    "df2 = pd.DataFrame({\n",
    "    'A': [1.0, -1.0, 3.0, 5.0],\n",
    "    'B': pd.Timestamp('20170712'),\n",
    "    'C': pd.Series(1, index=list(range(0, 4)), dtype=np.float32),\n",
    "    'D': np.array([3] * 4, dtype=np.int32), \n",
    "    'E': pd.Categorical(['a', 'b', 'c', 'd']), \n",
    "    'F': 'Hello, world!'\n",
    "}, index=pd.date_range('20170712', periods=4))\n",
    "\n",
    "print (df2)\n",
    "#print (df2['A'])\n",
    "#print (df2[['A', 'D']])\n",
    "#print (df2[0:2])\n",
    "#print (df2['20170714':'20170715'])\n",
    "\n",
    "#print (df2.loc[:, ['A', 'C']])\n",
    "#print (df2.loc['20170714':'20170715', ['A', 'C']])\n",
    "print (df2.iloc[2:3, 2:3])"
   ]
  },
  {
   "cell_type": "code",
   "execution_count": 67,
   "metadata": {
    "collapsed": false
   },
   "outputs": [
    {
     "name": "stdout",
     "output_type": "stream",
     "text": [
      "          A         B         C         D         E\n",
      "0 -0.868933 -0.134881  1.102388 -1.209006  1.183737\n",
      "1  0.716366 -1.193768 -0.890825  1.385772  0.402432\n",
      "2 -0.627727 -0.476260  1.088532  0.883386  0.868755\n",
      "3  0.135053 -1.400845 -1.393577 -2.182413 -0.965972\n",
      "4 -0.166114 -0.585847  0.220171  0.165293  0.255230\n",
      "5 -0.136701 -1.199963 -0.599291  0.022094  1.265450\n",
      "          A         B         C         D         E\n",
      "0 -0.868933  0.000000  1.102388 -1.209006  1.183737\n",
      "1  0.716366 -1.193768 -0.890825  1.385772  0.402432\n",
      "2 -0.627727 -0.476260  1.088532  0.883386  0.868755\n",
      "3  0.135053 -1.400845 -1.393577 -2.182413 -0.965972\n",
      "4 -0.166114 -0.585847  0.220171  0.165293  0.255230\n",
      "5 -0.136701 -1.199963 -0.599291  0.022094  1.265450\n",
      "          A         B         C         D         E\n",
      "0 -0.868933  0.000000  1.102388 -1.209006  1.183737\n",
      "1  0.716366 -1.193768 -0.890825  1.385772  0.402432\n",
      "2 -0.627727 -0.476260  1.088532  0.000000  0.868755\n",
      "3  0.135053 -1.400845 -1.393577 -2.182413 -0.965972\n",
      "4 -0.166114 -0.585847  0.220171  0.165293  0.255230\n",
      "5 -0.136701 -1.199963 -0.599291  0.022094  1.265450\n",
      "          A         B         C         D         E   F\n",
      "0 -0.868933  0.000000  1.102388 -1.209006  1.183737 NaN\n",
      "1  0.716366 -1.193768 -0.890825  1.385772  0.402432 NaN\n",
      "2 -0.627727 -0.476260  1.088532  0.000000  0.868755 NaN\n",
      "3  0.135053 -1.400845 -1.393577 -2.182413 -0.965972 NaN\n",
      "4 -0.166114 -0.585847  0.220171  0.165293  0.255230 NaN\n",
      "5 -0.136701 -1.199963 -0.599291  0.022094  1.265450 NaN\n",
      "       A      B      C      D      E     F\n",
      "0  False  False  False  False  False  True\n",
      "1  False  False  False  False  False  True\n",
      "2  False  False  False  False  False  True\n",
      "3  False  False  False  False  False  True\n",
      "4  False  False  False  False  False  True\n",
      "5  False  False  False  False  False  True\n",
      "          A         B         C         D         E    F\n",
      "0 -0.868933  0.000000  1.102388 -1.209006  1.183737  3.0\n",
      "1  0.716366 -1.193768 -0.890825  1.385772  0.402432  3.0\n",
      "2 -0.627727 -0.476260  1.088532  0.000000  0.868755  3.0\n",
      "3  0.135053 -1.400845 -1.393577 -2.182413 -0.965972  3.0\n",
      "4 -0.166114 -0.585847  0.220171  0.165293  0.255230  3.0\n",
      "5 -0.136701 -1.199963 -0.599291  0.022094  1.265450  3.0\n",
      "Empty DataFrame\n",
      "Columns: [A, B, C, D, E, F]\n",
      "Index: []\n"
     ]
    }
   ],
   "source": [
    "df = pd.DataFrame(np.random.randn(6, 5), columns=['A', 'B', 'C', 'D', 'E'])\n",
    "print (df)\n",
    "\n",
    "df.at[0, 'B'] = 0\n",
    "print (df)\n",
    "df.iat[2, 3] = 0\n",
    "print (df)\n",
    "\n",
    "df2 = df.reindex(columns=list(df.columns) + ['F'])\n",
    "print (df2)\n",
    "print (pd.isnull(df2))\n",
    "print (df2.fillna(value=3))\n",
    "print (df2.dropna(how='any'))"
   ]
  },
  {
   "cell_type": "markdown",
   "metadata": {},
   "source": [
    "# Dataframe Sum, Sub\n",
    " - df.mean(axis=0) 행 , 세로로 다 더해서 평균\n",
    " - df.mean(axis=1) 열 , 열단위로 다 더해서 평균\n",
    " - 차원이 높아지면 어려움 ㅠㅠ\n"
   ]
  },
  {
   "cell_type": "code",
   "execution_count": 74,
   "metadata": {
    "collapsed": false
   },
   "outputs": [
    {
     "name": "stdout",
     "output_type": "stream",
     "text": [
      "          A         B         C         D         E\n",
      "0 -1.887032  2.539827 -0.460016  0.187691 -2.025021\n",
      "1  0.937543 -0.348370  1.870423 -0.426529  1.146957\n",
      "2 -0.875473  1.730043 -0.155525  0.988538  0.218722\n",
      "3  0.411965  1.494933 -1.210719 -0.040001 -0.817110\n",
      "4  1.260527 -0.287795 -0.612150  0.825615  0.229277\n",
      "5  2.057679  0.925625 -1.900314 -0.204877  0.910265\n",
      "0    NaN\n",
      "1    NaN\n",
      "2    1.0\n",
      "3    3.0\n",
      "4    5.0\n",
      "5    NaN\n",
      "dtype: float64\n",
      "          A         B         C         D         E\n",
      "0       NaN       NaN       NaN       NaN       NaN\n",
      "1       NaN       NaN       NaN       NaN       NaN\n",
      "2 -1.875473  0.730043 -1.155525 -0.011462 -0.781278\n",
      "3 -2.588035 -1.505067 -4.210719 -3.040001 -3.817110\n",
      "4 -3.739473 -5.287795 -5.612150 -4.174385 -4.770723\n",
      "5       NaN       NaN       NaN       NaN       NaN\n"
     ]
    }
   ],
   "source": [
    "df = pd.DataFrame(np.random.randn(6, 5), columns=['A', 'B', 'C', 'D', 'E'])\n",
    "\n",
    "print (df)\n",
    "#print (df.mean(axis=0))\n",
    "#print (df.mean(axis=1))\n",
    "\n",
    "\n",
    "s = pd.Series([1,3,5,np.nan,6,8], index=list(range(6))).shift(2)\n",
    "\n",
    "print (s)\n",
    "print (df.sub(s, axis='index'))"
   ]
  },
  {
   "cell_type": "code",
   "execution_count": 77,
   "metadata": {
    "collapsed": false
   },
   "outputs": [
    {
     "name": "stdout",
     "output_type": "stream",
     "text": [
      "          0         1         2         3\n",
      "0  0.362432  1.557732  0.073769  0.673301\n",
      "1  0.666375  0.238631 -2.081464 -1.443817\n",
      "2  1.579045  1.165676  0.526868 -0.152006\n",
      "3  2.228224  0.823816  0.547329  0.108056\n",
      "4 -0.028086 -0.459659  0.001484 -0.993379\n",
      "5 -1.927381  0.393474 -1.686878  0.016644\n",
      "6  1.053581  1.005173 -0.085826  0.658781\n",
      "7 -0.793948  0.222810 -0.853955 -1.722220\n",
      "8  0.776203 -0.818901 -0.679804 -0.084097\n",
      "9  2.029511 -1.724061 -0.672898 -0.818153\n",
      "          0         1         2         3\n",
      "0  0.362432  1.557732  0.073769  0.673301\n",
      "1  0.666375  0.238631 -2.081464 -1.443817\n",
      "3  2.228224  0.823816  0.547329  0.108056\n",
      "4 -0.028086 -0.459659  0.001484 -0.993379\n",
      "7 -0.793948  0.222810 -0.853955 -1.722220\n",
      "8  0.776203 -0.818901 -0.679804 -0.084097\n",
      "9  2.029511 -1.724061 -0.672898 -0.818153\n",
      "   key  lval\n",
      "0  foo     1\n",
      "1  foo     2\n",
      "   key  rval\n",
      "0  foo     4\n",
      "1  foo     5\n",
      "   key  lval  rval\n",
      "0  foo     1     4\n",
      "1  foo     1     5\n",
      "2  foo     2     4\n",
      "3  foo     2     5\n"
     ]
    }
   ],
   "source": [
    "df = pd.DataFrame(np.random.randn(10, 4))\n",
    "print (df)\n",
    "\n",
    "pieces = [df[:2], df[3:5], df[7:]]\n",
    "print (pd.concat(pieces))\n",
    "\n",
    "left = pd.DataFrame({'key': ['foo', 'foo'], 'lval': [1, 2]})\n",
    "right = pd.DataFrame({'key': ['foo', 'foo'], 'rval': [4, 5]})\n",
    "\n",
    "print(left)\n",
    "print(right)\n",
    "print (pd.merge(left, right, on='key'))"
   ]
  },
  {
   "cell_type": "code",
   "execution_count": 78,
   "metadata": {
    "collapsed": false
   },
   "outputs": [
    {
     "name": "stdout",
     "output_type": "stream",
     "text": [
      "     A      B         C         D\n",
      "0  foo    one  0.446348  0.779994\n",
      "1  bar    one  1.313240 -0.098357\n",
      "2  foo    two -1.020768  3.447486\n",
      "3  bar  three -0.486636 -0.466737\n",
      "4  foo    two  0.940459  1.027172\n",
      "5  bar    two -0.009167  2.069161\n",
      "6  foo    one -0.076578  1.197142\n",
      "7  foo  three -0.161333  0.941060\n",
      "            C         D\n",
      "A                      \n",
      "bar  0.817437  1.504067\n",
      "foo  0.128128  7.392854\n",
      "                  C         D\n",
      "A   B                        \n",
      "bar one    1.313240 -0.098357\n",
      "    three -0.486636 -0.466737\n",
      "    two   -0.009167  2.069161\n",
      "foo one    0.369770  1.977135\n",
      "    three -0.161333  0.941060\n",
      "    two   -0.080309  4.474658\n"
     ]
    }
   ],
   "source": [
    "df = pd.DataFrame({'A' : ['foo', 'bar', 'foo', 'bar',\n",
    "                          'foo', 'bar', 'foo', 'foo'],\n",
    "                   'B' : ['one', 'one', 'two', 'three',\n",
    "                          'two', 'two', 'one', 'three'],\n",
    "                   'C' : np.random.randn(8),\n",
    "                   'D' : np.random.randn(8)})\n",
    "print (df)\n",
    "\n",
    "print (df.groupby('A').sum())\n",
    "print (df.groupby(['A','B']).sum())"
   ]
  },
  {
   "cell_type": "code",
   "execution_count": 79,
   "metadata": {
    "collapsed": false
   },
   "outputs": [
    {
     "data": {
      "image/png": "[encoded data removed]",
      "text/plain": [
       "<matplotlib.figure.Figure at 0x7fa7e24d1d30>"
      ]
     },
     "metadata": {},
     "output_type": "display_data"
    }
   ],
   "source": [
    "ts = pd.Series(np.random.randn(1000), index=pd.date_range('1/1/2010', periods=1000))\n",
    "ts = ts.cumsum()\n",
    "\n",
    "ts.plot()\n",
    "plt.show()"
   ]
  },
  {
   "cell_type": "code",
   "execution_count": 81,
   "metadata": {
    "collapsed": false,
    "scrolled": true
   },
   "outputs": [
    {
     "name": "stderr",
     "output_type": "stream",
     "text": [
      "/opt/conda/lib/python3.5/site-packages/matplotlib/legend.py:325: UserWarning: Unrecognized location \"bset\". Falling back on \"best\"; valid locations are\n",
      "\tcenter left\n",
      "\tbest\n",
      "\tright\n",
      "\tcenter\n",
      "\tlower center\n",
      "\tlower right\n",
      "\tcenter right\n",
      "\tupper left\n",
      "\tupper right\n",
      "\tupper center\n",
      "\tlower left\n",
      "\n",
      "  six.iterkeys(self.codes))))\n"
     ]
    },
    {
     "data": {
      "image/png": "[encoded data removed]",
      "text/plain": [
       "<matplotlib.figure.Figure at 0x7fa7e1ff3a58>"
      ]
     },
     "metadata": {},
     "output_type": "display_data"
    }
   ],
   "source": [
    "df = pd.DataFrame(np.random.randn(1000, 4), index=ts.index, columns=['A', 'B', 'C', 'D'])\n",
    "df = df.cumsum()\n",
    "\n",
    "df.plot()\n",
    "plt.legend(loc='bset')\n",
    "plt.show()"
   ]
  },
  {
   "cell_type": "code",
   "execution_count": 82,
   "metadata": {
    "collapsed": false
   },
   "outputs": [
    {
     "name": "stdout",
     "output_type": "stream",
     "text": [
      "     Unnamed: 0         A         B         C         D\n",
      "0    2010-01-01  1.089884  0.046201  0.903817 -1.045165\n",
      "1    2010-01-02  0.262743 -0.720980 -1.648060  0.643756\n",
      "2    2010-01-03 -0.014722  0.300277 -1.315487  0.486866\n",
      "3    2010-01-04  0.412078 -0.565056  0.142044  0.143996\n",
      "4    2010-01-05 -0.309245 -0.024973  0.215335  0.107176\n",
      "5    2010-01-06 -0.269011 -1.007771  0.068472 -0.760871\n",
      "6    2010-01-07  1.395632 -0.595583  1.058383  0.139865\n",
      "7    2010-01-08 -0.324344  0.326581 -0.493129 -0.576046\n",
      "8    2010-01-09  0.992383  0.619414 -0.939585  0.254779\n",
      "9    2010-01-10 -0.409931  1.311981  0.336524  0.400394\n",
      "10   2010-01-11  1.484828 -0.213495  0.322048  0.449724\n",
      "11   2010-01-12 -0.923271  0.866566  0.700834 -1.116986\n",
      "12   2010-01-13  0.448894  0.600299 -1.456134 -0.660916\n",
      "13   2010-01-14  0.559690  0.959710  0.465514  1.188046\n",
      "14   2010-01-15 -0.960417  0.072135 -1.161090  0.692064\n",
      "15   2010-01-16  1.496689 -0.526844 -1.544388 -0.387966\n",
      "16   2010-01-17 -0.591751 -0.276486 -0.685523 -0.070279\n",
      "17   2010-01-18  0.309245 -0.285774  0.782048  1.481285\n",
      "18   2010-01-19 -3.325129  0.022798 -0.792054 -0.448402\n",
      "19   2010-01-20 -0.749650 -1.401685  0.860584 -1.160897\n",
      "20   2010-01-21 -0.245257 -0.918925  0.709495  1.007327\n",
      "21   2010-01-22  0.691650 -0.221800  0.147798 -0.693274\n",
      "22   2010-01-23  0.102038 -0.137835 -0.244561 -1.427823\n",
      "23   2010-01-24  0.043350 -1.397147 -1.259047 -0.726618\n",
      "24   2010-01-25 -0.229077  1.101674 -1.898989 -1.778498\n",
      "25   2010-01-26  0.644782  0.447481  0.747047 -0.464751\n",
      "26   2010-01-27  0.407560 -0.729717 -0.807633 -0.353347\n",
      "27   2010-01-28  1.338312 -1.180831 -1.615152 -1.176126\n",
      "28   2010-01-29  0.293192 -1.078291  0.630588 -0.419818\n",
      "29   2010-01-30 -0.659577 -0.036430  0.535667  1.410126\n",
      "..          ...       ...       ...       ...       ...\n",
      "970  2012-08-28  0.515749 -0.615616  0.689120  0.208111\n",
      "971  2012-08-29 -0.624776  1.154656  0.378834 -0.523468\n",
      "972  2012-08-30 -1.000850 -0.130619  1.052639  0.014336\n",
      "973  2012-08-31  0.148792  0.738831  0.365124 -1.019325\n",
      "974  2012-09-01 -0.352395 -2.098743  0.679489  2.170507\n",
      "975  2012-09-02 -0.525336 -0.471622  0.829123  0.169964\n",
      "976  2012-09-03  0.206118  1.048521 -0.597684  1.115827\n",
      "977  2012-09-04 -0.129124  0.120949  1.378529 -2.206507\n",
      "978  2012-09-05 -0.179472  1.469417  1.566701 -0.831523\n",
      "979  2012-09-06  0.000845 -0.758644 -0.839608  0.589566\n",
      "980  2012-09-07 -0.218677 -0.911623  1.402765 -0.539412\n",
      "981  2012-09-08  0.019506  0.059699  2.304724  1.645396\n",
      "982  2012-09-09  0.748701 -0.618370 -0.256092  0.489279\n",
      "983  2012-09-10 -1.690063 -1.269966 -0.226784  1.283167\n",
      "984  2012-09-11  1.551318  0.913086  1.114686  1.378562\n",
      "985  2012-09-12 -0.065512  0.934172  0.235180  0.239980\n",
      "986  2012-09-13 -0.257759  2.492002 -1.402628 -0.885848\n",
      "987  2012-09-14 -0.015165 -1.098444 -0.044633 -0.352559\n",
      "988  2012-09-15  1.816106 -1.616329 -0.516862  0.010606\n",
      "989  2012-09-16  0.625306 -0.288560 -0.239002 -1.123102\n",
      "990  2012-09-17  0.974407 -0.112085 -0.857527  0.317188\n",
      "991  2012-09-18  0.765666 -0.426496 -0.647061  0.556213\n",
      "992  2012-09-19  1.514949  0.192444 -1.141646  0.171922\n",
      "993  2012-09-20 -0.922744 -0.209995 -0.771614  1.602921\n",
      "994  2012-09-21 -1.898829 -0.961408 -0.310858  0.580529\n",
      "995  2012-09-22  0.670110 -0.301319  0.242954 -0.766639\n",
      "996  2012-09-23 -0.910837  0.487988 -1.348289 -0.306073\n",
      "997  2012-09-24 -0.266864 -0.794944  0.027927 -0.289666\n",
      "998  2012-09-25 -0.338139  0.815480 -1.517164 -0.009083\n",
      "999  2012-09-26 -0.274988  1.596152  1.687461 -0.158151\n",
      "\n",
      "[1000 rows x 5 columns]\n"
     ]
    }
   ],
   "source": [
    "df = pd.DataFrame(np.random.randn(1000, 4), index=ts.index, columns=['A', 'B', 'C', 'D'])\n",
    "df.to_csv('test.csv')\n",
    "\n",
    "df2 = pd.read_csv('test.csv')\n",
    "print (df2)"
   ]
  },
  {
   "cell_type": "code",
   "execution_count": null,
   "metadata": {
    "collapsed": true
   },
   "outputs": [],
   "source": []
  }
 ],
 "metadata": {
  "anaconda-cloud": {},
  "kernelspec": {
   "display_name": "Python [conda root]",
   "language": "python",
   "name": "conda-root-py"
  },
  "language_info": {
   "codemirror_mode": {
    "name": "ipython",
    "version": 3
   },
   "file_extension": ".py",
   "mimetype": "text/x-python",
   "name": "python",
   "nbconvert_exporter": "python",
   "pygments_lexer": "ipython3",
   "version": "3.5.2"
  }
 },
 "nbformat": 4,
 "nbformat_minor": 2
}
